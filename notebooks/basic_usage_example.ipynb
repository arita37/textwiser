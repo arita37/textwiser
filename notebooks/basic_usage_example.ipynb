{
 "cells": [
  {
   "cell_type": "markdown",
   "metadata": {},
   "source": [
    "# Document Embedding Basic Usage Example\n",
    "\n",
    "Here, we provide a basic look into how the API can be used."
   ]
  },
  {
   "cell_type": "code",
   "execution_count": 1,
   "metadata": {},
   "outputs": [],
   "source": [
    "import os\n",
    "os.chdir('..')"
   ]
  },
  {
   "cell_type": "markdown",
   "metadata": {},
   "source": [
    "We use a sample scikit-learn dataset to test the embeddings."
   ]
  },
  {
   "cell_type": "code",
   "execution_count": 2,
   "metadata": {},
   "outputs": [],
   "source": [
    "from sklearn.datasets import fetch_20newsgroups\n",
    "\n",
    "categories = ['alt.atheism', 'talk.religion.misc', 'comp.graphics', 'sci.space']\n",
    "newsgroups_train = fetch_20newsgroups(subset='train', categories=categories)\n",
    "documents = newsgroups_train.data[:20]"
   ]
  },
  {
   "cell_type": "markdown",
   "metadata": {},
   "source": [
    "In general, you can use `Embedding` models that take in raw text to convert them into real valued vectors. You can then follow them up with `Transformation` models that take in and output real valued vectors.\n",
    "\n",
    "For example, we can replicate a TfIdf to NMF featurization in the following manner:"
   ]
  },
  {
   "cell_type": "code",
   "execution_count": 3,
   "metadata": {},
   "outputs": [
    {
     "data": {
      "text/plain": [
       "array([[3.01101089e-01, 0.00000000e+00, 2.18839020e-01, 0.00000000e+00,\n",
       "        0.00000000e+00, 0.00000000e+00, 3.21987301e-01, 0.00000000e+00,\n",
       "        0.00000000e+00, 0.00000000e+00],\n",
       "       [2.84159798e-02, 1.05698027e-01, 0.00000000e+00, 5.06473854e-02,\n",
       "        0.00000000e+00, 4.90010940e-02, 6.90960288e-01, 0.00000000e+00,\n",
       "        0.00000000e+00, 0.00000000e+00],\n",
       "       [0.00000000e+00, 0.00000000e+00, 0.00000000e+00, 8.12491953e-01,\n",
       "        0.00000000e+00, 0.00000000e+00, 0.00000000e+00, 0.00000000e+00,\n",
       "        0.00000000e+00, 0.00000000e+00],\n",
       "       [0.00000000e+00, 0.00000000e+00, 0.00000000e+00, 1.87781453e-02,\n",
       "        6.97313622e-02, 0.00000000e+00, 6.23105109e-01, 2.10211650e-01,\n",
       "        0.00000000e+00, 6.22027293e-02],\n",
       "       [0.00000000e+00, 0.00000000e+00, 7.93895423e-01, 8.12194590e-03,\n",
       "        0.00000000e+00, 0.00000000e+00, 0.00000000e+00, 0.00000000e+00,\n",
       "        4.90453234e-03, 0.00000000e+00],\n",
       "       [7.57250178e-04, 5.78031968e-03, 0.00000000e+00, 3.01019084e-02,\n",
       "        0.00000000e+00, 0.00000000e+00, 0.00000000e+00, 0.00000000e+00,\n",
       "        0.00000000e+00, 1.00827742e+00],\n",
       "       [0.00000000e+00, 0.00000000e+00, 0.00000000e+00, 9.35225107e-04,\n",
       "        7.94917107e-01, 0.00000000e+00, 1.40284365e-02, 0.00000000e+00,\n",
       "        0.00000000e+00, 0.00000000e+00],\n",
       "       [4.58636552e-01, 9.00608599e-02, 1.18496038e-01, 0.00000000e+00,\n",
       "        0.00000000e+00, 2.15718225e-01, 3.62067148e-02, 0.00000000e+00,\n",
       "        0.00000000e+00, 0.00000000e+00],\n",
       "       [0.00000000e+00, 3.26280966e-02, 3.65360156e-02, 9.69158784e-02,\n",
       "        0.00000000e+00, 9.64282751e-02, 0.00000000e+00, 1.52515963e-01,\n",
       "        7.07845390e-01, 0.00000000e+00],\n",
       "       [3.17967013e-02, 6.46984056e-02, 0.00000000e+00, 1.63537320e-02,\n",
       "        0.00000000e+00, 0.00000000e+00, 0.00000000e+00, 9.60807443e-01,\n",
       "        0.00000000e+00, 0.00000000e+00],\n",
       "       [1.89238906e-01, 7.38756433e-02, 1.13342302e-02, 3.01360279e-01,\n",
       "        0.00000000e+00, 2.65606403e-01, 9.01209936e-02, 0.00000000e+00,\n",
       "        5.77138774e-02, 0.00000000e+00],\n",
       "       [0.00000000e+00, 0.00000000e+00, 0.00000000e+00, 0.00000000e+00,\n",
       "        0.00000000e+00, 9.52489138e-01, 0.00000000e+00, 0.00000000e+00,\n",
       "        0.00000000e+00, 0.00000000e+00],\n",
       "       [0.00000000e+00, 9.02314842e-01, 0.00000000e+00, 1.30589604e-02,\n",
       "        0.00000000e+00, 0.00000000e+00, 0.00000000e+00, 0.00000000e+00,\n",
       "        0.00000000e+00, 0.00000000e+00],\n",
       "       [5.34669101e-01, 1.19457208e-02, 0.00000000e+00, 1.23132050e-01,\n",
       "        0.00000000e+00, 0.00000000e+00, 0.00000000e+00, 0.00000000e+00,\n",
       "        0.00000000e+00, 4.79019098e-02],\n",
       "       [0.00000000e+00, 1.65624544e-01, 4.89443168e-02, 0.00000000e+00,\n",
       "        0.00000000e+00, 1.11235902e-02, 1.09538555e-01, 4.38010752e-01,\n",
       "        1.38663888e-01, 2.31091008e-01],\n",
       "       [2.08811313e-02, 0.00000000e+00, 0.00000000e+00, 2.65579045e-01,\n",
       "        0.00000000e+00, 0.00000000e+00, 1.30007297e-01, 0.00000000e+00,\n",
       "        5.90087652e-01, 0.00000000e+00],\n",
       "       [2.93266594e-01, 0.00000000e+00, 0.00000000e+00, 2.27191281e-02,\n",
       "        5.45331351e-02, 1.13260031e-01, 2.57007390e-01, 1.29597798e-01,\n",
       "        1.60424113e-01, 0.00000000e+00],\n",
       "       [3.26926261e-01, 0.00000000e+00, 0.00000000e+00, 0.00000000e+00,\n",
       "        7.76958279e-03, 0.00000000e+00, 1.61706150e-01, 1.67994589e-01,\n",
       "        2.45140344e-01, 4.13131304e-02],\n",
       "       [1.99342087e-01, 1.12931237e-01, 2.75531318e-03, 0.00000000e+00,\n",
       "        1.43751800e-01, 1.10183805e-01, 0.00000000e+00, 0.00000000e+00,\n",
       "        4.21226203e-01, 4.50750776e-02],\n",
       "       [2.55371839e-01, 1.36230350e-01, 0.00000000e+00, 6.68099001e-02,\n",
       "        8.05788189e-02, 3.09508920e-01, 0.00000000e+00, 1.20917119e-01,\n",
       "        8.68210271e-02, 0.00000000e+00]], dtype=float32)"
      ]
     },
     "execution_count": 3,
     "metadata": {},
     "output_type": "execute_result"
    }
   ],
   "source": [
    "from textwiser import TextWiser, Embedding, Transformation\n",
    "\n",
    "emb = TextWiser(Embedding.TfIdf(min_df=5), Transformation.NMF(n_components=10))\n",
    "vecs = emb.fit_transform(documents)\n",
    "vecs"
   ]
  },
  {
   "cell_type": "markdown",
   "metadata": {},
   "source": [
    "We can just as easily try out a pooling of word embeddings:"
   ]
  },
  {
   "cell_type": "code",
   "execution_count": 4,
   "metadata": {},
   "outputs": [
    {
     "data": {
      "text/plain": [
       "array([[0.1969, 0.2157, 0.2076, ..., 0.4019, 0.2006, 0.2305],\n",
       "       [0.2327, 0.3131, 0.3033, ..., 0.3267, 0.2783, 0.2475],\n",
       "       [0.0992, 0.1078, 0.207 , ..., 0.2473, 0.1487, 0.1541],\n",
       "       ...,\n",
       "       [0.2538, 0.2691, 0.1851, ..., 0.3561, 0.3472, 0.1758],\n",
       "       [0.2038, 0.1847, 0.4164, ..., 0.3179, 0.24  , 0.2351],\n",
       "       [0.2573, 0.2906, 0.2647, ..., 0.4127, 0.205 , 0.2459]],\n",
       "      dtype=float32)"
      ]
     },
     "execution_count": 4,
     "metadata": {},
     "output_type": "execute_result"
    }
   ],
   "source": [
    "from textwiser import TextWiser, Embedding, PoolOptions, Transformation, WordOptions\n",
    "\n",
    "emb = TextWiser(Embedding.Word(word_option=WordOptions.word2vec, pretrained='en'), Transformation.Pool(pool_option=PoolOptions.max))\n",
    "vecs = emb.fit_transform(documents)\n",
    "vecs"
   ]
  },
  {
   "cell_type": "markdown",
   "metadata": {},
   "source": [
    "## Schema\n",
    "\n",
    "We also provide a convenient schema for mixing and matching different word and document embeddings. This makes it easy to try out different embedding types rapidly.\n",
    "\n",
    "There are two main operations: `transform` and `concat`.\n",
    "\n",
    "The `transform` operation defines a list of operations. The first of these operations should be an `Embedding`, while the rest should be `Transformation`s. The idea is that the `Embeddings` have access to raw text and turn them into vectors, and therefore the following `Transformation`s need to operate on vectors. In PyTorch terms, this is equivalent to using `nn.Sequential`.\n",
    "\n",
    "The `concat` operation defines a concatenation of multiple embedding vectors. This can be done both at word and sentence level. In PyTorch terms, this is equivalent to using `torch.cat`.\n",
    "\n",
    "### Sample Schema\n",
    "\n",
    "Below we outline a sample and presumably common use-case. At the root level, we have three different embeddings. The first two are different word embeddings, both are pooled (first using max pooling, second using mean pooling) to generate the sentence representations $s_1$ and $s_2$. The third is a tf-idf embedding of the document followed by a reduction of its dimensionality to 30 using NMF, generating sentence representation $s_3$. These representations are concatenated to $s_{123}$, and are fed into a final SVD transformation that brings the sentence vector back down to a manageable level ($s$)."
   ]
  },
  {
   "cell_type": "code",
   "execution_count": 5,
   "metadata": {
    "scrolled": false
   },
   "outputs": [
    {
     "data": {
      "text/plain": [
       "TextWiser(\n",
       "  (_imp): _Sequential(\n",
       "    (0): _CompoundEmbeddings()\n",
       "  )\n",
       ")"
      ]
     },
     "execution_count": 5,
     "metadata": {},
     "output_type": "execute_result"
    }
   ],
   "source": [
    "from textwiser import TextWiser, Embedding\n",
    "\n",
    "doc_embeddings_schema = {\n",
    "    'transform': [\n",
    "        {\n",
    "            'concat': [\n",
    "                {\n",
    "                    'transform': [\n",
    "                        ('word2vec', {'pretrained': 'en'}),\n",
    "                        'pool'\n",
    "                    ]\n",
    "                },\n",
    "                {\n",
    "                    'transform': [\n",
    "                        ('flair', {'pretrained': 'news-forward-fast'}),\n",
    "                        ('pool', {'pool_option': 'mean'})\n",
    "                    ]\n",
    "                },\n",
    "                {\n",
    "                    'transform': [\n",
    "                        'tfidf',\n",
    "                        ('nmf', { 'n_components': 10 })\n",
    "                    ]\n",
    "                }\n",
    "            ]\n",
    "        },\n",
    "        'svd'\n",
    "    ]\n",
    "}\n",
    "\n",
    "doc_embeddings = TextWiser(Embedding.Compound(schema=doc_embeddings_schema))\n",
    "doc_embeddings"
   ]
  },
  {
   "cell_type": "markdown",
   "metadata": {},
   "source": [
    "Once the embeddings object is initialized, we can feed in a list of text documents and get the relevant output."
   ]
  },
  {
   "cell_type": "code",
   "execution_count": 6,
   "metadata": {
    "scrolled": false
   },
   "outputs": [
    {
     "data": {
      "text/plain": [
       "TextWiser(\n",
       "  (_imp): _Sequential(\n",
       "    (0): _CompoundEmbeddings(\n",
       "      (model): _Sequential(\n",
       "        (0): _Concat(\n",
       "          (embeddings): ModuleList(\n",
       "            (0): _Sequential(\n",
       "              (0): _WordEmbeddings(\n",
       "                (model): Embedding(1000001, 300)\n",
       "              )\n",
       "              (1): _PoolTransformation()\n",
       "            )\n",
       "            (1): _Sequential(\n",
       "              (0): _WordEmbeddings(\n",
       "                (model): FlairEmbeddings(\n",
       "                  (lm): LanguageModel(\n",
       "                    (drop): Dropout(p=0.25, inplace=False)\n",
       "                    (encoder): Embedding(275, 100)\n",
       "                    (rnn): LSTM(100, 1024)\n",
       "                    (decoder): Linear(in_features=1024, out_features=275, bias=True)\n",
       "                  )\n",
       "                )\n",
       "              )\n",
       "              (1): _PoolTransformation()\n",
       "            )\n",
       "            (2): _Sequential(\n",
       "              (0): _TfIdfEmbeddings()\n",
       "              (1): _NMFTransformation()\n",
       "            )\n",
       "          )\n",
       "        )\n",
       "        (1): _SVDTransformation()\n",
       "      )\n",
       "    )\n",
       "  )\n",
       ")"
      ]
     },
     "execution_count": 6,
     "metadata": {},
     "output_type": "execute_result"
    }
   ],
   "source": [
    "doc_embeddings.fit(documents)"
   ]
  },
  {
   "cell_type": "code",
   "execution_count": 7,
   "metadata": {},
   "outputs": [
    {
     "name": "stdout",
     "output_type": "stream",
     "text": [
      "CPU times: user 2min 5s, sys: 1.34 s, total: 2min 7s\n",
      "Wall time: 32.4 s\n"
     ]
    },
    {
     "data": {
      "text/plain": [
       "array([[-5.10063171e+00,  2.22280920e-02,  4.14250344e-01,\n",
       "        -2.65658572e-02,  5.45007050e-01, -3.32126498e-01,\n",
       "         3.22970182e-01, -7.25271821e-01,  9.28251565e-01,\n",
       "        -2.71624506e-01],\n",
       "       [-5.28810358e+00, -7.73512125e-02, -2.03879401e-02,\n",
       "         1.06850453e-01, -1.51873410e-01,  2.99940258e-01,\n",
       "        -3.02130491e-01, -1.00054994e-01,  1.08959593e-01,\n",
       "        -1.06767222e-01],\n",
       "       [-4.51112938e+00,  4.14192319e-01, -2.05684334e-01,\n",
       "        -8.41357410e-01,  2.04449058e-01,  5.57696484e-02,\n",
       "         3.18822205e-01,  3.17744553e-01,  1.21957198e-01,\n",
       "         2.29578197e-01],\n",
       "       [-5.08173132e+00, -4.44692105e-01,  2.89135247e-01,\n",
       "        -3.85956839e-02,  2.49053538e-02,  1.28525406e-01,\n",
       "         4.20099646e-02, -3.15635055e-01, -2.16314986e-01,\n",
       "        -2.93152303e-01],\n",
       "       [-4.58816624e+00,  6.82748616e-01, -7.39156455e-02,\n",
       "        -4.03802037e-01, -3.86146009e-01, -1.87553063e-01,\n",
       "        -7.91937590e-01, -4.82498974e-01, -4.54805315e-01,\n",
       "        -5.11834741e-01],\n",
       "       [-5.21991634e+00, -3.47187579e-01,  3.02520454e-01,\n",
       "         4.87793013e-02, -1.00220479e-01,  1.99845105e-01,\n",
       "         6.46127462e-02, -1.70976222e-01, -2.52187431e-01,\n",
       "        -2.19772965e-01],\n",
       "       [-5.21606255e+00,  3.76842231e-01,  8.24677944e-03,\n",
       "        -4.51250136e-01,  2.05373019e-03,  2.12146446e-01,\n",
       "        -6.97872698e-01,  6.44891024e-01,  7.43437350e-01,\n",
       "        -1.86804205e-01],\n",
       "       [-5.69198895e+00, -1.33123219e-01,  1.30023673e-01,\n",
       "         4.51038152e-01,  4.83444706e-02,  1.88517928e-01,\n",
       "        -1.42611116e-01,  1.04338497e-01,  2.52632856e-01,\n",
       "         4.55046862e-01],\n",
       "       [-5.04594612e+00, -2.14824021e-01, -9.67381001e-01,\n",
       "         1.96123660e-01,  2.68925548e-01, -2.36961320e-01,\n",
       "         5.22419624e-02,  9.06466842e-02, -6.36846721e-02,\n",
       "        -2.26873726e-01],\n",
       "       [-4.73872948e+00,  4.68944877e-01, -2.22050563e-01,\n",
       "        -4.04243916e-03,  6.42914250e-02, -2.23383576e-01,\n",
       "        -3.53266269e-01, -6.72719479e-01, -8.09018314e-02,\n",
       "         1.02190781e+00],\n",
       "       [-5.21401548e+00, -1.31435335e-01,  1.31673545e-01,\n",
       "        -7.20640540e-01,  4.50872719e-01,  6.16042390e-02,\n",
       "         2.46626884e-01,  7.02735782e-03, -3.93568844e-01,\n",
       "         3.29191834e-02],\n",
       "       [-5.21920729e+00,  4.96978164e-01,  7.06799746e-01,\n",
       "         4.64865088e-01,  6.53102994e-02, -8.13336015e-01,\n",
       "        -2.60141585e-02,  6.08072281e-01, -2.39065319e-01,\n",
       "         2.25049108e-02],\n",
       "       [-3.86377382e+00,  1.38999331e+00, -4.45414782e-02,\n",
       "         6.48604214e-01,  1.51360974e-01,  9.03914988e-01,\n",
       "         4.48818743e-01, -7.84191713e-02, -1.40736461e-01,\n",
       "        -2.09759861e-01],\n",
       "       [-5.30925560e+00, -7.48043060e-02,  5.75961173e-02,\n",
       "        -6.39388800e-01,  2.79276311e-01,  7.98574537e-02,\n",
       "         3.59729946e-01,  1.57746613e-01, -3.90910327e-01,\n",
       "         1.07670113e-01],\n",
       "       [-5.06200314e+00,  9.07333493e-02,  4.54817444e-01,\n",
       "         3.91997814e-01,  1.58487782e-01, -5.55742621e-01,\n",
       "         7.19486773e-02,  9.53963399e-02, -2.03652143e-01,\n",
       "        -1.18021041e-01],\n",
       "       [-5.45179510e+00, -2.59366214e-01, -5.71343899e-02,\n",
       "         3.08810085e-01, -3.63966525e-02,  3.04508626e-01,\n",
       "        -1.58886164e-01,  3.03249061e-01, -8.89641047e-02,\n",
       "         3.47526848e-01],\n",
       "       [-6.35360622e+00, -9.50583577e-01,  1.48649082e-01,\n",
       "         1.67123601e-01, -3.25638473e-01,  3.01860631e-01,\n",
       "        -9.15646255e-02, -7.01069459e-02, -4.28722799e-02,\n",
       "         1.56844482e-02],\n",
       "       [-5.60058069e+00, -5.43407619e-01,  1.84967190e-01,\n",
       "         1.03775501e-01,  2.88877338e-02,  3.19283426e-01,\n",
       "        -5.64636849e-02,  9.27147716e-02,  4.44409251e-02,\n",
       "        -9.93700698e-03],\n",
       "       [-5.12843418e+00, -1.80324346e-01, -1.21725535e+00,\n",
       "         3.80849004e-01,  2.35685751e-01, -3.80320311e-01,\n",
       "         7.58170858e-02,  7.13317916e-02,  3.62698734e-03,\n",
       "        -2.19800100e-01],\n",
       "       [-5.44016743e+00,  2.02408612e-01, -1.60624713e-01,\n",
       "        -1.96336269e-01, -1.34976602e+00, -2.75750309e-01,\n",
       "         6.75383747e-01, -7.82776624e-03,  2.70220518e-01,\n",
       "         5.91701902e-02]], dtype=float32)"
      ]
     },
     "execution_count": 7,
     "metadata": {},
     "output_type": "execute_result"
    }
   ],
   "source": [
    "%%time\n",
    "\n",
    "emb = doc_embeddings.transform(documents)\n",
    "emb"
   ]
  },
  {
   "cell_type": "markdown",
   "metadata": {},
   "source": [
    "You can also specify the same schema in a json file."
   ]
  },
  {
   "cell_type": "code",
   "execution_count": 8,
   "metadata": {},
   "outputs": [
    {
     "data": {
      "text/plain": [
       "TextWiser(\n",
       "  (_imp): _Sequential(\n",
       "    (0): _CompoundEmbeddings()\n",
       "  )\n",
       ")"
      ]
     },
     "execution_count": 8,
     "metadata": {},
     "output_type": "execute_result"
    }
   ],
   "source": [
    "import json\n",
    "\n",
    "doc_embeddings = TextWiser(Embedding.Compound(schema='notebooks/schema.json'))\n",
    "doc_embeddings"
   ]
  },
  {
   "cell_type": "code",
   "execution_count": 9,
   "metadata": {},
   "outputs": [
    {
     "data": {
      "text/plain": [
       "array([[-5.10063171e+00,  2.22280920e-02,  4.14250344e-01,\n",
       "        -2.65658572e-02,  5.45007050e-01, -3.32126498e-01,\n",
       "         3.22970182e-01, -7.25271821e-01,  9.28251565e-01,\n",
       "        -2.71624506e-01],\n",
       "       [-5.28810358e+00, -7.73512125e-02, -2.03879401e-02,\n",
       "         1.06850453e-01, -1.51873410e-01,  2.99940258e-01,\n",
       "        -3.02130491e-01, -1.00054994e-01,  1.08959593e-01,\n",
       "        -1.06767222e-01],\n",
       "       [-4.51112938e+00,  4.14192319e-01, -2.05684334e-01,\n",
       "        -8.41357410e-01,  2.04449058e-01,  5.57696484e-02,\n",
       "         3.18822205e-01,  3.17744553e-01,  1.21957198e-01,\n",
       "         2.29578197e-01],\n",
       "       [-5.08173132e+00, -4.44692105e-01,  2.89135247e-01,\n",
       "        -3.85956839e-02,  2.49053538e-02,  1.28525406e-01,\n",
       "         4.20099646e-02, -3.15635055e-01, -2.16314986e-01,\n",
       "        -2.93152303e-01],\n",
       "       [-4.58816624e+00,  6.82748616e-01, -7.39156455e-02,\n",
       "        -4.03802037e-01, -3.86146009e-01, -1.87553063e-01,\n",
       "        -7.91937590e-01, -4.82498974e-01, -4.54805315e-01,\n",
       "        -5.11834741e-01],\n",
       "       [-5.21991634e+00, -3.47187579e-01,  3.02520454e-01,\n",
       "         4.87793013e-02, -1.00220479e-01,  1.99845105e-01,\n",
       "         6.46127462e-02, -1.70976222e-01, -2.52187431e-01,\n",
       "        -2.19772965e-01],\n",
       "       [-5.21606255e+00,  3.76842231e-01,  8.24677944e-03,\n",
       "        -4.51250136e-01,  2.05373019e-03,  2.12146446e-01,\n",
       "        -6.97872698e-01,  6.44891024e-01,  7.43437350e-01,\n",
       "        -1.86804205e-01],\n",
       "       [-5.69198895e+00, -1.33123219e-01,  1.30023673e-01,\n",
       "         4.51038152e-01,  4.83444706e-02,  1.88517928e-01,\n",
       "        -1.42611116e-01,  1.04338497e-01,  2.52632856e-01,\n",
       "         4.55046862e-01],\n",
       "       [-5.04594612e+00, -2.14824021e-01, -9.67381001e-01,\n",
       "         1.96123660e-01,  2.68925548e-01, -2.36961320e-01,\n",
       "         5.22419624e-02,  9.06466842e-02, -6.36846721e-02,\n",
       "        -2.26873726e-01],\n",
       "       [-4.73872948e+00,  4.68944877e-01, -2.22050563e-01,\n",
       "        -4.04243916e-03,  6.42914250e-02, -2.23383576e-01,\n",
       "        -3.53266269e-01, -6.72719479e-01, -8.09018314e-02,\n",
       "         1.02190781e+00],\n",
       "       [-5.21401548e+00, -1.31435335e-01,  1.31673545e-01,\n",
       "        -7.20640540e-01,  4.50872719e-01,  6.16042390e-02,\n",
       "         2.46626884e-01,  7.02735782e-03, -3.93568844e-01,\n",
       "         3.29191834e-02],\n",
       "       [-5.21920729e+00,  4.96978164e-01,  7.06799746e-01,\n",
       "         4.64865088e-01,  6.53102994e-02, -8.13336015e-01,\n",
       "        -2.60141585e-02,  6.08072281e-01, -2.39065319e-01,\n",
       "         2.25049108e-02],\n",
       "       [-3.86377382e+00,  1.38999331e+00, -4.45414782e-02,\n",
       "         6.48604214e-01,  1.51360974e-01,  9.03914988e-01,\n",
       "         4.48818743e-01, -7.84191713e-02, -1.40736461e-01,\n",
       "        -2.09759861e-01],\n",
       "       [-5.30925560e+00, -7.48043060e-02,  5.75961173e-02,\n",
       "        -6.39388800e-01,  2.79276311e-01,  7.98574537e-02,\n",
       "         3.59729946e-01,  1.57746613e-01, -3.90910327e-01,\n",
       "         1.07670113e-01],\n",
       "       [-5.06200314e+00,  9.07333493e-02,  4.54817444e-01,\n",
       "         3.91997814e-01,  1.58487782e-01, -5.55742621e-01,\n",
       "         7.19486773e-02,  9.53963399e-02, -2.03652143e-01,\n",
       "        -1.18021041e-01],\n",
       "       [-5.45179510e+00, -2.59366214e-01, -5.71343899e-02,\n",
       "         3.08810085e-01, -3.63966525e-02,  3.04508626e-01,\n",
       "        -1.58886164e-01,  3.03249061e-01, -8.89641047e-02,\n",
       "         3.47526848e-01],\n",
       "       [-6.35360622e+00, -9.50583577e-01,  1.48649082e-01,\n",
       "         1.67123601e-01, -3.25638473e-01,  3.01860631e-01,\n",
       "        -9.15646255e-02, -7.01069459e-02, -4.28722799e-02,\n",
       "         1.56844482e-02],\n",
       "       [-5.60058069e+00, -5.43407619e-01,  1.84967190e-01,\n",
       "         1.03775501e-01,  2.88877338e-02,  3.19283426e-01,\n",
       "        -5.64636849e-02,  9.27147716e-02,  4.44409251e-02,\n",
       "        -9.93700698e-03],\n",
       "       [-5.12843418e+00, -1.80324346e-01, -1.21725535e+00,\n",
       "         3.80849004e-01,  2.35685751e-01, -3.80320311e-01,\n",
       "         7.58170858e-02,  7.13317916e-02,  3.62698734e-03,\n",
       "        -2.19800100e-01],\n",
       "       [-5.44016743e+00,  2.02408612e-01, -1.60624713e-01,\n",
       "        -1.96336269e-01, -1.34976602e+00, -2.75750309e-01,\n",
       "         6.75383747e-01, -7.82776624e-03,  2.70220518e-01,\n",
       "         5.91701902e-02]], dtype=float32)"
      ]
     },
     "execution_count": 9,
     "metadata": {},
     "output_type": "execute_result"
    }
   ],
   "source": [
    "doc_embeddings.fit_transform(documents)"
   ]
  }
 ],
 "metadata": {
  "kernelspec": {
   "display_name": "Python (textwiser)",
   "language": "python",
   "name": "textwiser"
  },
  "language_info": {
   "codemirror_mode": {
    "name": "ipython",
    "version": 3
   },
   "file_extension": ".py",
   "mimetype": "text/x-python",
   "name": "python",
   "nbconvert_exporter": "python",
   "pygments_lexer": "ipython3",
   "version": "3.6.9"
  }
 },
 "nbformat": 4,
 "nbformat_minor": 2
}
